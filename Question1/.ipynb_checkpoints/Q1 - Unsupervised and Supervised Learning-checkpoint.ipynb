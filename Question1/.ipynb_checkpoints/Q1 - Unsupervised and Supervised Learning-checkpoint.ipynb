{
 "cells": [
  {
   "cell_type": "markdown",
   "id": "2476ce04",
   "metadata": {},
   "source": [
    "# Question 1 - Unsupervised + Supervised Learning\n",
    "## Anwaar Hadi\n",
    "This notebook contains solutions to Question 1 of the coding challenge. The notebook depicts the process of implementing a k-means clustering methodology with a derived optimal number of clusters. Then, using cluster memberships as class labels, multinomial logistic regression and decission tree classifiers are trained and their performance is compared."
   ]
  },
  {
   "cell_type": "markdown",
   "id": "e2823934",
   "metadata": {},
   "source": [
    "## Part i - Clustering using k-means"
   ]
  },
  {
   "cell_type": "code",
   "execution_count": 23,
   "id": "9dba86e9",
   "metadata": {},
   "outputs": [],
   "source": [
    "# import relevant libraries\n",
    "import numpy as np\n",
    "import pandas as pd\n",
    "import csv\n",
    "from sklearn import cluster"
   ]
  },
  {
   "cell_type": "code",
   "execution_count": 24,
   "id": "efa0b5d0",
   "metadata": {},
   "outputs": [
    {
     "data": {
      "text/plain": [
       "array([[  5.64072013,   9.1801827 ,  10.28866117, ..., -10.19915415,\n",
       "          0.36604256,   9.13270389],\n",
       "       [  7.96213717,   4.39077939,   6.51351436, ...,  -7.50608486,\n",
       "         -0.56584195,  10.02400647],\n",
       "       [ -0.29981942,  -3.56693104,  -5.83650755, ...,  -4.21298313,\n",
       "          6.04998347, -10.13094085],\n",
       "       ...,\n",
       "       [  1.69282663,  -3.22963292,  -5.8509819 , ...,  -0.8997377 ,\n",
       "          5.13922675,  -9.51099456],\n",
       "       [ -3.73420474,   5.84581368,  -0.04579228, ..., -10.8797207 ,\n",
       "          6.34242545,  -3.86683827],\n",
       "       [ -4.5212347 ,  -8.65186656,   3.79946441, ...,  10.85236389,\n",
       "         -2.47187278,   2.87978098]])"
      ]
     },
     "execution_count": 24,
     "metadata": {},
     "output_type": "execute_result"
    }
   ],
   "source": [
    "# load the data into a numpy array\n",
    "data = None\n",
    "with open('../quant_spec_coding/data/dataClustering.csv', 'r') as f:\n",
    "    reader = csv.reader(f)\n",
    "    data = list(reader)\n",
    "data = np.array(data, dtype=float)\n",
    "data"
   ]
  },
  {
   "cell_type": "code",
   "execution_count": 25,
   "id": "37b52c5c",
   "metadata": {},
   "outputs": [
    {
     "data": {
      "text/plain": [
       "Text(0, 0.5, 'Sum of Squared Error(inertia)')"
      ]
     },
     "execution_count": 25,
     "metadata": {},
     "output_type": "execute_result"
    },
    {
     "data": {
      "image/png": "[encoded data removed]",
      "text/plain": [
       "<Figure size 432x288 with 1 Axes>"
      ]
     },
     "metadata": {
      "needs_background": "light"
     },
     "output_type": "display_data"
    }
   ],
   "source": [
    "# Determine the optimal number of clusters for the data. Here, we'll use the \"elbow\" method, in which k-means\n",
    "# clustering will be applied with varying numbers of clusters and the resulting Sum of Squared Errors(sum of \n",
    "# the distances between the samples and their closest centroids; also known as inertia) will be plotted against\n",
    "# the number of clusters(k). The \"elbow\" of this plot(the point after which the graph starts becoming linear) will\n",
    "# be the optimal number of clusters\n",
    "import matplotlib.pyplot as plt\n",
    "%matplotlib inline\n",
    "\n",
    "num_clusters = [x for x in range(1, 11)]\n",
    "SSE = []\n",
    "for k in num_clusters:\n",
    "    k_means = cluster.KMeans(n_clusters=k, n_init='auto')\n",
    "    k_means.fit(data)\n",
    "    SSE.append(k_means.inertia_)\n",
    "plt.plot(num_clusters, SSE)\n",
    "plt.xlabel('Number of Clusters(k)')\n",
    "plt.ylabel('Sum of Squared Error(inertia)')"
   ]
  },
  {
   "cell_type": "code",
   "execution_count": 26,
   "id": "2fa986ac",
   "metadata": {},
   "outputs": [
    {
     "data": {
      "text/plain": [
       "array([2, 2, 1, ..., 1, 3, 0], dtype=int32)"
      ]
     },
     "execution_count": 26,
     "metadata": {},
     "output_type": "execute_result"
    }
   ],
   "source": [
    "# As we can see from the plot above, the optimal number of clusters for this dataset is k=4. We can now apply\n",
    "# k-means clustering with this hyperparameter\n",
    "k_means = cluster.KMeans(n_clusters=4, n_init='auto')\n",
    "k_means.fit(data)\n",
    "labels = k_means.labels_\n",
    "labels"
   ]
  },
  {
   "cell_type": "markdown",
   "id": "535670be",
   "metadata": {},
   "source": [
    "Now that we have the clustering labels for the dataset, we can move on to training the classifiers"
   ]
  },
  {
   "cell_type": "markdown",
   "id": "a461de3f",
   "metadata": {},
   "source": [
    "## Part ii - Classification using Multinomial Regression and Decision Tree"
   ]
  },
  {
   "cell_type": "code",
   "execution_count": 27,
   "id": "6c029166",
   "metadata": {},
   "outputs": [],
   "source": [
    "# Now we can build the Multinomial Regression model used as a benchmark for the classification. First, we will\n",
    "# import the relevant libraries\n",
    "from sklearn.linear_model import LogisticRegression\n",
    "from sklearn.metrics import classification_report, confusion_matrix\n",
    "from sklearn.model_selection import train_test_split"
   ]
  },
  {
   "cell_type": "code",
   "execution_count": 28,
   "id": "84ade527",
   "metadata": {},
   "outputs": [
    {
     "data": {
      "text/plain": [
       "array([[ 2.91625894e+00, -4.48026951e+00, -6.28694880e+00, ...,\n",
       "        -5.35625848e+00,  7.71281027e+00, -1.03954047e+01],\n",
       "       [-2.09977243e+00, -7.39213942e+00,  4.29965203e+00, ...,\n",
       "         9.06098163e+00, -1.31096463e+00,  3.53513878e+00],\n",
       "       [-4.01627483e+00, -7.22514084e+00,  4.77030226e+00, ...,\n",
       "         9.68112002e+00, -1.45242935e-03,  4.19796051e+00],\n",
       "       ...,\n",
       "       [ 5.00832678e+00,  5.12592133e+00,  6.52861435e+00, ...,\n",
       "        -8.83517079e+00, -3.33095380e+00,  1.05011426e+01],\n",
       "       [ 3.95392572e+00, -2.87808246e+00, -3.78582699e+00, ...,\n",
       "        -1.94458082e+00,  5.68523661e+00, -6.14276755e+00],\n",
       "       [-5.17958257e+00, -3.80412610e+00,  1.53115206e+00, ...,\n",
       "         7.88405028e+00, -1.50546558e+00,  1.61633296e+00]])"
      ]
     },
     "execution_count": 28,
     "metadata": {},
     "output_type": "execute_result"
    }
   ],
   "source": [
    "# Next, we will perform a 70/30 train/test split on the data to ensure that we are avoiding overfitting. Here,\n",
    "# 70% of the data will be used as a training set for the classifiers and 30% of the data will be used as a test\n",
    "# set. This is done so as to mitigate overfitting of the classifiers with respect to the dataset.\n",
    "X_train, X_test, y_train, y_test = train_test_split(data, labels, train_size=0.7)\n",
    "X_train"
   ]
  },
  {
   "cell_type": "code",
   "execution_count": 29,
   "id": "9379baa9",
   "metadata": {},
   "outputs": [],
   "source": [
    "# Fit Multinomial regression model using data and class labels from the training set\n",
    "mlr = LogisticRegression(multi_class='multinomial', solver='lbfgs', penalty=None).fit(X_train, y_train)"
   ]
  },
  {
   "cell_type": "code",
   "execution_count": 30,
   "id": "37112888",
   "metadata": {},
   "outputs": [
    {
     "name": "stdout",
     "output_type": "stream",
     "text": [
      "Classes: [0 1 2 3]\n",
      "----------------------------------------\n",
      "Coefficients: [[-0.21565542 -0.69572559  0.18501435 -0.37745577  1.23160198  0.59135914\n",
      "   0.22082503  0.36675325]\n",
      " [ 1.24463288 -0.41036816 -1.08431134 -0.84602469  0.7239436  -0.1790783\n",
      "  -0.46266987 -1.19071726]\n",
      " [ 0.2557935   0.16485162  0.43196583  0.38590336  0.47656803 -0.4868148\n",
      "  -0.10510012  0.62913419]\n",
      " [-1.28477096  0.94124212  0.46733116  0.83757709 -2.43211362  0.07453396\n",
      "   0.34694496  0.19482982]]\n",
      "----------------------------------------\n",
      "Intercepts: [ 0.2754499  -0.16414402  0.1038705  -0.21517637]\n",
      "----------------------------------------\n",
      "Number of features seen: 8\n"
     ]
    }
   ],
   "source": [
    "# Print information about the regression, including coefficients, class info, intercepts, and number of features seen\n",
    "print(\"Classes:\", mlr.classes_)\n",
    "print(\"-\"*40)\n",
    "print(\"Coefficients:\", mlr.coef_)\n",
    "print(\"-\"*40)\n",
    "print(\"Intercepts:\", mlr.intercept_)\n",
    "print(\"-\"*40)\n",
    "print(\"Number of features seen:\", mlr.n_features_in_)"
   ]
  },
  {
   "cell_type": "code",
   "execution_count": 31,
   "id": "5ab44841",
   "metadata": {},
   "outputs": [
    {
     "name": "stdout",
     "output_type": "stream",
     "text": [
      "Confusion Matrix for Multinomial:\n",
      " [[205   0   0   0]\n",
      " [  0 197   0   0]\n",
      " [  0   0 159   0]\n",
      " [  0   0   0 189]]\n",
      "----------------------------------------\n",
      "Report for Multinomial:\n",
      "               precision    recall  f1-score   support\n",
      "\n",
      "           0       1.00      1.00      1.00       205\n",
      "           1       1.00      1.00      1.00       197\n",
      "           2       1.00      1.00      1.00       159\n",
      "           3       1.00      1.00      1.00       189\n",
      "\n",
      "    accuracy                           1.00       750\n",
      "   macro avg       1.00      1.00      1.00       750\n",
      "weighted avg       1.00      1.00      1.00       750\n",
      "\n"
     ]
    }
   ],
   "source": [
    "# Predict and compute classification scores and confusion matrix for the Multinomial regression\n",
    "y_pred = mlr.predict(X_test)\n",
    "confusion = confusion_matrix(y_test, y_pred)\n",
    "report = classification_report(y_test, y_pred)\n",
    "print(\"Confusion Matrix for Multinomial:\\n\", confusion)\n",
    "print(\"-\"*40)\n",
    "print(\"Report for Multinomial:\\n\", report)"
   ]
  },
  {
   "cell_type": "code",
   "execution_count": 32,
   "id": "4dc0608e",
   "metadata": {},
   "outputs": [
    {
     "name": "stdout",
     "output_type": "stream",
     "text": [
      "Confusion Matrix for Tree:\n",
      " [[205   0   0   0]\n",
      " [  0 196   0   1]\n",
      " [  0   0 159   0]\n",
      " [  0   0   1 188]]\n",
      "----------------------------------------\n",
      "Report for Tree:\n",
      "               precision    recall  f1-score   support\n",
      "\n",
      "           0       1.00      1.00      1.00       205\n",
      "           1       1.00      0.99      1.00       197\n",
      "           2       0.99      1.00      1.00       159\n",
      "           3       0.99      0.99      0.99       189\n",
      "\n",
      "    accuracy                           1.00       750\n",
      "   macro avg       1.00      1.00      1.00       750\n",
      "weighted avg       1.00      1.00      1.00       750\n",
      "\n"
     ]
    }
   ],
   "source": [
    "# Build Decision Tree classifier for comparison\n",
    "from sklearn.tree import DecisionTreeClassifier\n",
    "t = DecisionTreeClassifier().fit(X_train, y_train)\n",
    "y_pred_tree = t.predict(X_test)\n",
    "confusion_tree = confusion_matrix(y_test, y_pred_tree)\n",
    "report_tree = classification_report(y_test, y_pred_tree)\n",
    "print(\"Confusion Matrix for Tree:\\n\", confusion_tree)\n",
    "print(\"-\"*40)\n",
    "print(\"Report for Tree:\\n\", report_tree)"
   ]
  },
  {
   "cell_type": "code",
   "execution_count": 41,
   "id": "2ea5795f",
   "metadata": {},
   "outputs": [
    {
     "data": {
      "text/plain": [
       "[Text(0.5, 0.875, 'x[7] <= -1.127\\ngini = 0.75\\nsamples = 1750\\nvalue = [420, 428, 466, 436]\\nclass = 2'),\n",
       " Text(0.25, 0.625, 'x[4] <= -4.796\\ngini = 0.5\\nsamples = 864\\nvalue = [0, 428, 0, 436]\\nclass = 3'),\n",
       " Text(0.125, 0.375, 'gini = 0.0\\nsamples = 435\\nvalue = [0, 0, 0, 435]\\nclass = 3'),\n",
       " Text(0.375, 0.375, 'x[1] <= 3.117\\ngini = 0.005\\nsamples = 429\\nvalue = [0, 428, 0, 1]\\nclass = 1'),\n",
       " Text(0.25, 0.125, 'gini = 0.0\\nsamples = 428\\nvalue = [0, 428, 0, 0]\\nclass = 1'),\n",
       " Text(0.5, 0.125, 'gini = 0.0\\nsamples = 1\\nvalue = [0, 0, 0, 1]\\nclass = 3'),\n",
       " Text(0.75, 0.625, 'x[1] <= -1.52\\ngini = 0.499\\nsamples = 886\\nvalue = [420, 0, 466, 0]\\nclass = 2'),\n",
       " Text(0.625, 0.375, 'gini = 0.0\\nsamples = 420\\nvalue = [420, 0, 0, 0]\\nclass = 0'),\n",
       " Text(0.875, 0.375, 'gini = 0.0\\nsamples = 466\\nvalue = [0, 0, 466, 0]\\nclass = 2')]"
      ]
     },
     "execution_count": 41,
     "metadata": {},
     "output_type": "execute_result"
    },
    {
     "data": {
      "image/png": "[encoded data removed]",
      "text/plain": [
       "<Figure size 432x288 with 1 Axes>"
      ]
     },
     "metadata": {
      "needs_background": "light"
     },
     "output_type": "display_data"
    }
   ],
   "source": [
    "# Visualize the tree\n",
    "from sklearn.tree import plot_tree\n",
    "plot_tree(t, class_names=[\"0\", \"1\", \"2\", \"3\"])"
   ]
  },
  {
   "cell_type": "code",
   "execution_count": 43,
   "id": "27810c8e",
   "metadata": {},
   "outputs": [
    {
     "data": {
      "image/png": "[encoded data removed]",
      "text/plain": [
       "<Figure size 432x288 with 2 Axes>"
      ]
     },
     "metadata": {
      "needs_background": "light"
     },
     "output_type": "display_data"
    }
   ],
   "source": [
    "# Visualize confusion matrix for Multinomial Logistic Regression\n",
    "from sklearn.metrics import ConfusionMatrixDisplay\n",
    "disp_multi = ConfusionMatrixDisplay(confusion_matrix=confusion, display_labels=[\"0\",  \"1\", \"2\", \"3\"])\n",
    "disp_multi.plot()\n",
    "plt.title(\"Confusion Matrix for Multinomial Regression\")\n",
    "plt.show()"
   ]
  },
  {
   "cell_type": "code",
   "execution_count": 45,
   "id": "b8b254b6",
   "metadata": {},
   "outputs": [
    {
     "data": {
      "image/png": "[encoded data removed]",
      "text/plain": [
       "<Figure size 432x288 with 2 Axes>"
      ]
     },
     "metadata": {
      "needs_background": "light"
     },
     "output_type": "display_data"
    }
   ],
   "source": [
    "# Visualize confusion matrix for Decision Tree\n",
    "disp_tree = ConfusionMatrixDisplay(confusion_matrix=confusion_tree, display_labels=[\"0\",  \"1\", \"2\", \"3\"])\n",
    "disp_tree.plot()\n",
    "plt.title(\"Confusion Matrix for Decision Tree\")\n",
    "plt.show()"
   ]
  },
  {
   "cell_type": "markdown",
   "id": "261ee6c8",
   "metadata": {},
   "source": [
    "From the above tests, it is notable that multinomial regression performs slightly better than decision trees, since multinomial regression is able to predict the target class with a slightly higher degree of accuracy (although decision trees are not far off in this respect). One potential reason for this may be the nature of the dataset. Since the features in the dataset are continuous, the decision tree would need to discretize the data before constructing the tree, which may lead to dome discrepancies. However, the multinomial regression model relies on generating a continuous valued function (softmax function) for predicting class values, which would result in a higher degree of accuracy given the dataset"
   ]
  },
  {
   "cell_type": "code",
   "execution_count": null,
   "id": "86a5c1d5",
   "metadata": {},
   "outputs": [],
   "source": []
  }
 ],
 "metadata": {
  "kernelspec": {
   "display_name": "Python 3 (ipykernel)",
   "language": "python",
   "name": "python3"
  },
  "language_info": {
   "codemirror_mode": {
    "name": "ipython",
    "version": 3
   },
   "file_extension": ".py",
   "mimetype": "text/x-python",
   "name": "python",
   "nbconvert_exporter": "python",
   "pygments_lexer": "ipython3",
   "version": "3.10.12"
  }
 },
 "nbformat": 4,
 "nbformat_minor": 5
}
