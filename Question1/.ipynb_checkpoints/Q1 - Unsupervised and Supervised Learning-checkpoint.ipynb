{
 "cells": [
  {
   "cell_type": "markdown",
   "id": "2476ce04",
   "metadata": {},
   "source": [
    "# Question 1 - Unsupervised + Supervised Learning\n",
    "## Anwaar Hadi\n",
    "This notebook contains solutions to Question 1 of the coding challenge. The notebook depicts the process of implementing a k-means clustering methodology with a derived optimal number of clusters. Then, using cluster memberships as class labels, multinomial logistic regression and decission tree classifiers are trained and their performance is compared."
   ]
  },
  {
   "cell_type": "markdown",
   "id": "e2823934",
   "metadata": {},
   "source": [
    "## Part i - Clustering using k-means"
   ]
  },
  {
   "cell_type": "code",
   "execution_count": 96,
   "id": "9dba86e9",
   "metadata": {},
   "outputs": [],
   "source": [
    "# import relevant libraries\n",
    "import numpy as np\n",
    "import pandas as pd\n",
    "import csv\n",
    "from sklearn import cluster"
   ]
  },
  {
   "cell_type": "code",
   "execution_count": 97,
   "id": "efa0b5d0",
   "metadata": {},
   "outputs": [
    {
     "data": {
      "text/plain": [
       "array([[  5.64072013,   9.1801827 ,  10.28866117, ..., -10.19915415,\n",
       "          0.36604256,   9.13270389],\n",
       "       [  7.96213717,   4.39077939,   6.51351436, ...,  -7.50608486,\n",
       "         -0.56584195,  10.02400647],\n",
       "       [ -0.29981942,  -3.56693104,  -5.83650755, ...,  -4.21298313,\n",
       "          6.04998347, -10.13094085],\n",
       "       ...,\n",
       "       [  1.69282663,  -3.22963292,  -5.8509819 , ...,  -0.8997377 ,\n",
       "          5.13922675,  -9.51099456],\n",
       "       [ -3.73420474,   5.84581368,  -0.04579228, ..., -10.8797207 ,\n",
       "          6.34242545,  -3.86683827],\n",
       "       [ -4.5212347 ,  -8.65186656,   3.79946441, ...,  10.85236389,\n",
       "         -2.47187278,   2.87978098]])"
      ]
     },
     "execution_count": 97,
     "metadata": {},
     "output_type": "execute_result"
    }
   ],
   "source": [
    "# load the data into a numpy array\n",
    "data = None\n",
    "with open('../quant_spec_coding/data/dataClustering.csv', 'r') as f:\n",
    "    reader = csv.reader(f)\n",
    "    data = list(reader)\n",
    "data = np.array(data, dtype=float)\n",
    "data"
   ]
  },
  {
   "cell_type": "code",
   "execution_count": 98,
   "id": "37b52c5c",
   "metadata": {},
   "outputs": [
    {
     "data": {
      "text/plain": [
       "Text(0, 0.5, 'Sum of Squared Error(inertia)')"
      ]
     },
     "execution_count": 98,
     "metadata": {},
     "output_type": "execute_result"
    },
    {
     "data": {
      "image/png": "[encoded data removed]",
      "text/plain": [
       "<Figure size 432x288 with 1 Axes>"
      ]
     },
     "metadata": {
      "needs_background": "light"
     },
     "output_type": "display_data"
    }
   ],
   "source": [
    "# Determine the optimal number of clusters for the data. Here, we'll use the \"elbow\" method, in which k-means\n",
    "# clustering will be applied with varying numbers of clusters and the resulting Sum of Squared Errors(sum of \n",
    "# the distances between the samples and their closest centroids; also known as inertia) will be plotted against\n",
    "# the number of clusters(k). The \"elbow\" of this plot(the point after which the graph starts becoming linear) will\n",
    "# be the optimal number of clusters\n",
    "import matplotlib.pyplot as plt\n",
    "%matplotlib inline\n",
    "\n",
    "num_clusters = [x for x in range(1, 11)]\n",
    "SSE = []\n",
    "for k in num_clusters:\n",
    "    k_means = cluster.KMeans(n_clusters=k, n_init='auto')\n",
    "    k_means.fit(data)\n",
    "    SSE.append(k_means.inertia_)\n",
    "plt.plot(num_clusters, SSE)\n",
    "plt.xlabel('Number of Clusters(k)')\n",
    "plt.ylabel('Sum of Squared Error(inertia)')"
   ]
  },
  {
   "cell_type": "code",
   "execution_count": 99,
   "id": "2fa986ac",
   "metadata": {},
   "outputs": [
    {
     "data": {
      "text/plain": [
       "array([2, 2, 1, ..., 1, 3, 0], dtype=int32)"
      ]
     },
     "execution_count": 99,
     "metadata": {},
     "output_type": "execute_result"
    }
   ],
   "source": [
    "# As we can see from the plot above, the optimal number of clusters for this dataset is k=4. We can now apply\n",
    "# k-means clustering with this hyperparameter\n",
    "k_means = cluster.KMeans(n_clusters=4, n_init='auto')\n",
    "k_means.fit(data)\n",
    "labels = k_means.labels_\n",
    "labels"
   ]
  },
  {
   "cell_type": "markdown",
   "id": "535670be",
   "metadata": {},
   "source": [
    "Now that we have the clustering labels for the dataset, we can move on to training the classifiers"
   ]
  },
  {
   "cell_type": "markdown",
   "id": "a461de3f",
   "metadata": {},
   "source": [
    "## Part ii - Classification using Multinomial Regression and Decision Tree"
   ]
  },
  {
   "cell_type": "code",
   "execution_count": 100,
   "id": "6c029166",
   "metadata": {},
   "outputs": [],
   "source": [
    "# Now we can build the Multinomial Regression model used as a benchmark for the classification. First, we will\n",
    "# import the relevant libraries\n",
    "from sklearn.linear_model import LogisticRegression\n",
    "from sklearn.metrics import classification_report, confusion_matrix\n",
    "from sklearn.model_selection import train_test_split"
   ]
  },
  {
   "cell_type": "code",
   "execution_count": 101,
   "id": "84ade527",
   "metadata": {},
   "outputs": [
    {
     "data": {
      "text/plain": [
       "array([[ -4.79583476,  -5.84798492,   4.0231798 , ...,   7.89462951,\n",
       "         -1.07069107,   3.50934286],\n",
       "       [  5.994918  ,   4.51966805,   9.84096449, ..., -12.08907408,\n",
       "         -2.27079693,   9.49157384],\n",
       "       [  4.29317157,   7.81295076,   6.53242782, ...,  -8.85612831,\n",
       "         -2.52950027,  10.06817559],\n",
       "       ...,\n",
       "       [  3.70545944,  -4.35390832,  -4.83471375, ...,  -3.69558121,\n",
       "          6.37898242,  -5.64010516],\n",
       "       [  2.65224894,   6.29162912,   1.06207055, ...,  -9.32172452,\n",
       "          5.72896625,  -4.9142009 ],\n",
       "       [ -1.39069657,   6.11512894,  -3.82717396, ...,  -6.68810471,\n",
       "          6.66782134,  -2.33541696]])"
      ]
     },
     "execution_count": 101,
     "metadata": {},
     "output_type": "execute_result"
    }
   ],
   "source": [
    "# Next, we will perform a 70/30 train/test split on the data to ensure that we are avoiding overfitting. Here,\n",
    "# 70% of the data will be used as a training set for the classifiers and 30% of the data will be used as a test\n",
    "# set. This is done so as to mitigate overfitting of the classifiers with respect to the dataset.\n",
    "X_train, X_test, y_train, y_test = train_test_split(data, labels, train_size=0.7)\n",
    "X_train"
   ]
  },
  {
   "cell_type": "code",
   "execution_count": 102,
   "id": "9379baa9",
   "metadata": {},
   "outputs": [],
   "source": [
    "# Fit Multinomial regression model using data and class labels from the training set\n",
    "mlr = LogisticRegression(multi_class='multinomial', solver='lbfgs', penalty=None).fit(X_train, y_train)"
   ]
  },
  {
   "cell_type": "code",
   "execution_count": 103,
   "id": "37112888",
   "metadata": {},
   "outputs": [
    {
     "name": "stdout",
     "output_type": "stream",
     "text": [
      "Classes: [0 1 2 3]\n",
      "----------------------------------------\n",
      "Coefficients: [[-0.12397492 -0.87880624  0.30483155 -0.38602571  1.44373731  0.61760568\n",
      "   0.21476843  0.49166416]\n",
      " [ 1.14113731 -0.67533679 -1.03277368 -1.23808899  0.52533752 -0.00964144\n",
      "  -0.65530086 -1.39375769]\n",
      " [ 0.26736421  0.22588357  0.59514236  0.38252195  0.59655498 -0.63270745\n",
      "  -0.03428485  0.73209688]\n",
      " [-1.2845266   1.32825947  0.13279977  1.24159276 -2.5656298   0.02474321\n",
      "   0.47481728  0.16999665]]\n",
      "----------------------------------------\n",
      "Intercepts: [ 0.33603183 -0.25230998  0.16680683 -0.25052869]\n",
      "----------------------------------------\n",
      "Number of features seen: 8\n"
     ]
    }
   ],
   "source": [
    "# Print information about the regression, including coefficients, class info, intercepts, and number of features seen\n",
    "print(\"Classes:\", mlr.classes_)\n",
    "print(\"-\"*40)\n",
    "print(\"Coefficients:\", mlr.coef_)\n",
    "print(\"-\"*40)\n",
    "print(\"Intercepts:\", mlr.intercept_)\n",
    "print(\"-\"*40)\n",
    "print(\"Number of features seen:\", mlr.n_features_in_)"
   ]
  },
  {
   "cell_type": "code",
   "execution_count": 104,
   "id": "5ab44841",
   "metadata": {},
   "outputs": [
    {
     "name": "stdout",
     "output_type": "stream",
     "text": [
      "Confusion Matrix for Multinomial:\n",
      " [[164   0   0   0]\n",
      " [  0 201   0   0]\n",
      " [  0   0 196   0]\n",
      " [  0   0   0 189]]\n",
      "----------------------------------------\n",
      "Report for Multinomial:\n",
      "               precision    recall  f1-score   support\n",
      "\n",
      "           0       1.00      1.00      1.00       164\n",
      "           1       1.00      1.00      1.00       201\n",
      "           2       1.00      1.00      1.00       196\n",
      "           3       1.00      1.00      1.00       189\n",
      "\n",
      "    accuracy                           1.00       750\n",
      "   macro avg       1.00      1.00      1.00       750\n",
      "weighted avg       1.00      1.00      1.00       750\n",
      "\n"
     ]
    }
   ],
   "source": [
    "# Predict and compute classification scores and confusion matrix for the Multinomial regression\n",
    "y_pred = mlr.predict(X_test)\n",
    "confusion = confusion_matrix(y_test, y_pred)\n",
    "report = classification_report(y_test, y_pred)\n",
    "print(\"Confusion Matrix for Multinomial:\\n\", confusion)\n",
    "print(\"-\"*40)\n",
    "print(\"Report for Multinomial:\\n\", report)"
   ]
  },
  {
   "cell_type": "code",
   "execution_count": 105,
   "id": "4dc0608e",
   "metadata": {},
   "outputs": [
    {
     "name": "stdout",
     "output_type": "stream",
     "text": [
      "Confusion Matrix for Tree:\n",
      " [[164   0   0   0]\n",
      " [  0 198   3   0]\n",
      " [  0   0 196   0]\n",
      " [  0   2   0 187]]\n",
      "----------------------------------------\n",
      "Report for Tree:\n",
      "               precision    recall  f1-score   support\n",
      "\n",
      "           0       1.00      1.00      1.00       164\n",
      "           1       0.99      0.99      0.99       201\n",
      "           2       0.98      1.00      0.99       196\n",
      "           3       1.00      0.99      0.99       189\n",
      "\n",
      "    accuracy                           0.99       750\n",
      "   macro avg       0.99      0.99      0.99       750\n",
      "weighted avg       0.99      0.99      0.99       750\n",
      "\n"
     ]
    }
   ],
   "source": [
    "# Build Decision Tree classifier for comparison\n",
    "from sklearn.tree import DecisionTreeClassifier\n",
    "t = DecisionTreeClassifier().fit(X_train, y_train)\n",
    "y_pred_tree = t.predict(X_test)\n",
    "confusion_tree = confusion_matrix(y_test, y_pred_tree)\n",
    "report_tree = classification_report(y_test, y_pred_tree)\n",
    "print(\"Confusion Matrix for Tree:\\n\", confusion_tree)\n",
    "print(\"-\"*40)\n",
    "print(\"Report for Tree:\\n\", report_tree)"
   ]
  },
  {
   "cell_type": "code",
   "execution_count": 106,
   "id": "2ea5795f",
   "metadata": {},
   "outputs": [
    {
     "data": {
      "text/plain": [
       "[Text(0.625, 0.875, 'x[5] <= 2.569\\ngini = 0.75\\nsamples = 1750\\nvalue = [461, 424, 429, 436]\\nclass = 0'),\n",
       " Text(0.5, 0.625, 'x[4] <= -4.65\\ngini = 0.667\\nsamples = 1289\\nvalue = [0, 424, 429, 436]\\nclass = 3'),\n",
       " Text(0.25, 0.375, 'x[2] <= -6.452\\ngini = 0.005\\nsamples = 437\\nvalue = [0, 1, 0, 436]\\nclass = 3'),\n",
       " Text(0.125, 0.125, 'gini = 0.0\\nsamples = 1\\nvalue = [0, 1, 0, 0]\\nclass = 1'),\n",
       " Text(0.375, 0.125, 'gini = 0.0\\nsamples = 436\\nvalue = [0, 0, 0, 436]\\nclass = 3'),\n",
       " Text(0.75, 0.375, 'x[6] <= 1.673\\ngini = 0.5\\nsamples = 852\\nvalue = [0, 423, 429, 0]\\nclass = 2'),\n",
       " Text(0.625, 0.125, 'gini = 0.0\\nsamples = 429\\nvalue = [0, 0, 429, 0]\\nclass = 2'),\n",
       " Text(0.875, 0.125, 'gini = 0.0\\nsamples = 423\\nvalue = [0, 423, 0, 0]\\nclass = 1'),\n",
       " Text(0.75, 0.625, 'gini = 0.0\\nsamples = 461\\nvalue = [461, 0, 0, 0]\\nclass = 0')]"
      ]
     },
     "execution_count": 106,
     "metadata": {},
     "output_type": "execute_result"
    },
    {
     "data": {
      "image/png": "[encoded data removed]",
      "text/plain": [
       "<Figure size 432x288 with 1 Axes>"
      ]
     },
     "metadata": {
      "needs_background": "light"
     },
     "output_type": "display_data"
    }
   ],
   "source": [
    "# Visualize the tree\n",
    "from sklearn.tree import plot_tree\n",
    "plot_tree(t, class_names=[\"0\", \"1\", \"2\", \"3\"])"
   ]
  },
  {
   "cell_type": "code",
   "execution_count": 107,
   "id": "27810c8e",
   "metadata": {},
   "outputs": [
    {
     "data": {
      "image/png": "[encoded data removed]",
      "text/plain": [
       "<Figure size 432x288 with 2 Axes>"
      ]
     },
     "metadata": {
      "needs_background": "light"
     },
     "output_type": "display_data"
    }
   ],
   "source": [
    "# Visualize confusion matrix for Multinomial Logistic Regression\n",
    "from sklearn.metrics import ConfusionMatrixDisplay\n",
    "disp_multi = ConfusionMatrixDisplay(confusion_matrix=confusion, display_labels=[\"0\",  \"1\", \"2\", \"3\"])\n",
    "disp_multi.plot()\n",
    "plt.title(\"Confusion Matrix for Multinomial Regression\")\n",
    "plt.show()"
   ]
  },
  {
   "cell_type": "code",
   "execution_count": 108,
   "id": "b8b254b6",
   "metadata": {},
   "outputs": [
    {
     "data": {
      "image/png": "[encoded data removed]",
      "text/plain": [
       "<Figure size 432x288 with 2 Axes>"
      ]
     },
     "metadata": {
      "needs_background": "light"
     },
     "output_type": "display_data"
    }
   ],
   "source": [
    "# Visualize confusion matrix for Decision Tree\n",
    "disp_tree = ConfusionMatrixDisplay(confusion_matrix=confusion_tree, display_labels=[\"0\",  \"1\", \"2\", \"3\"])\n",
    "disp_tree.plot()\n",
    "plt.title(\"Confusion Matrix for Decision Tree\")\n",
    "plt.show()"
   ]
  },
  {
   "cell_type": "markdown",
   "id": "261ee6c8",
   "metadata": {},
   "source": [
    "From the above tests, it is notable that multinomial regression performs slightly better than decision trees, since multinomial regression is able to predict the target class with a slightly higher degree of accuracy (although decision trees are not far off in this respect). One potential reason for this may be the nature of the dataset. Since the features in the dataset are continuous, the decision tree would need to discretize the data before constructing the tree, which may lead to dome discrepancies. However, the multinomial regression model relies on generating a continuous valued function (softmax function) for predicting class values, which would result in a higher degree of accuracy given the dataset"
   ]
  },
  {
   "cell_type": "code",
   "execution_count": null,
   "id": "86a5c1d5",
   "metadata": {},
   "outputs": [],
   "source": []
  }
 ],
 "metadata": {
  "kernelspec": {
   "display_name": "Python 3 (ipykernel)",
   "language": "python",
   "name": "python3"
  },
  "language_info": {
   "codemirror_mode": {
    "name": "ipython",
    "version": 3
   },
   "file_extension": ".py",
   "mimetype": "text/x-python",
   "name": "python",
   "nbconvert_exporter": "python",
   "pygments_lexer": "ipython3",
   "version": "3.10.12"
  }
 },
 "nbformat": 4,
 "nbformat_minor": 5
}
