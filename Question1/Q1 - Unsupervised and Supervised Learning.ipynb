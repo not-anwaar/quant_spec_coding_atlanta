{
 "cells": [
  {
   "cell_type": "code",
   "execution_count": 1,
   "id": "9dba86e9",
   "metadata": {},
   "outputs": [],
   "source": [
    "# import relevant libraries\n",
    "import numpy as np\n",
    "import pandas as pd\n",
    "import csv\n",
    "from sklearn import cluster"
   ]
  },
  {
   "cell_type": "code",
   "execution_count": 2,
   "id": "efa0b5d0",
   "metadata": {},
   "outputs": [
    {
     "data": {
      "text/plain": [
       "array([[  5.64072013,   9.1801827 ,  10.28866117, ..., -10.19915415,\n",
       "          0.36604256,   9.13270389],\n",
       "       [  7.96213717,   4.39077939,   6.51351436, ...,  -7.50608486,\n",
       "         -0.56584195,  10.02400647],\n",
       "       [ -0.29981942,  -3.56693104,  -5.83650755, ...,  -4.21298313,\n",
       "          6.04998347, -10.13094085],\n",
       "       ...,\n",
       "       [  1.69282663,  -3.22963292,  -5.8509819 , ...,  -0.8997377 ,\n",
       "          5.13922675,  -9.51099456],\n",
       "       [ -3.73420474,   5.84581368,  -0.04579228, ..., -10.8797207 ,\n",
       "          6.34242545,  -3.86683827],\n",
       "       [ -4.5212347 ,  -8.65186656,   3.79946441, ...,  10.85236389,\n",
       "         -2.47187278,   2.87978098]])"
      ]
     },
     "execution_count": 2,
     "metadata": {},
     "output_type": "execute_result"
    }
   ],
   "source": [
    "# load the data into a numpy array\n",
    "data = None\n",
    "with open('../quant_spec_coding/data/dataClustering.csv', 'r') as f:\n",
    "    reader = csv.reader(f)\n",
    "    data = list(reader)\n",
    "data = np.array(data, dtype=float)\n",
    "data"
   ]
  },
  {
   "cell_type": "code",
   "execution_count": 3,
   "id": "37b52c5c",
   "metadata": {},
   "outputs": [
    {
     "data": {
      "text/plain": [
       "Text(0, 0.5, 'Sum of Squared Error(inertia)')"
      ]
     },
     "execution_count": 3,
     "metadata": {},
     "output_type": "execute_result"
    },
    {
     "data": {
      "image/png": "[encoded data removed]",
      "text/plain": [
       "<Figure size 432x288 with 1 Axes>"
      ]
     },
     "metadata": {
      "needs_background": "light"
     },
     "output_type": "display_data"
    }
   ],
   "source": [
    "# Determine the optimal number of clusters for the data. Here, we'll use the \"elbow\" method, in which k-means\n",
    "# clustering will be applied with varying numbers of clusters and the resulting Sum of Squared Errors(sum of \n",
    "# the distances between the samples and their closest centroids; also known as inertia) will be plotted against\n",
    "# the number of clusters(k). The \"elbow\" of this plot(the point after which the graph starts becoming linear) will\n",
    "# be the optimal number of clusters\n",
    "import matplotlib.pyplot as plt\n",
    "%matplotlib inline\n",
    "\n",
    "num_clusters = [x for x in range(1, 11)]\n",
    "SSE = []\n",
    "for k in num_clusters:\n",
    "    k_means = cluster.KMeans(n_clusters=k, n_init='auto')\n",
    "    k_means.fit(data)\n",
    "    SSE.append(k_means.inertia_)\n",
    "plt.plot(num_clusters, SSE)\n",
    "plt.xlabel('Number of Clusters(k)')\n",
    "plt.ylabel('Sum of Squared Error(inertia)')"
   ]
  },
  {
   "cell_type": "code",
   "execution_count": 4,
   "id": "2fa986ac",
   "metadata": {},
   "outputs": [
    {
     "data": {
      "text/plain": [
       "array([1, 1, 0, ..., 0, 3, 2], dtype=int32)"
      ]
     },
     "execution_count": 4,
     "metadata": {},
     "output_type": "execute_result"
    }
   ],
   "source": [
    "# As we can see from the plot above, the optimal number of clusters for this dataset is k=4. We can now apply\n",
    "# k-means clustering with this hyperparameter\n",
    "k_means = cluster.KMeans(n_clusters=4, n_init='auto')\n",
    "k_means.fit(data)\n",
    "labels = k_means.labels_\n",
    "labels"
   ]
  },
  {
   "cell_type": "code",
   "execution_count": 20,
   "id": "5befc33d",
   "metadata": {},
   "outputs": [],
   "source": [
    "# Now that we have the clustering labels, we can build the labelled dataset by assigning each sample to its\n",
    "# relevant cluster label(Cluster 0, Cluster 1, Cluster 2, or Cluster 3)\n",
    "# labelled_samples = [ (label, data[index]) for index, label in enumerate(labels) ]\n",
    "# labelled_df = pd.DataFrame(labelled_samples, columns=['Cluster ID', 'Sample'])\n",
    "# labelled_df"
   ]
  },
  {
   "cell_type": "code",
   "execution_count": 21,
   "id": "6c029166",
   "metadata": {},
   "outputs": [],
   "source": [
    "# Now we can build the Multinomial Regression model used as a benchmark for the classification. First, we will\n",
    "# import the relevant libraries\n",
    "from sklearn.linear_model import LogisticRegression\n",
    "from sklearn.metrics import classification_report, confusion_matrix\n",
    "from sklearn.model_selection import train_test_split"
   ]
  },
  {
   "cell_type": "code",
   "execution_count": 55,
   "id": "84ade527",
   "metadata": {},
   "outputs": [
    {
     "data": {
      "text/plain": [
       "array([[ 3.22704197, -5.16383282, -3.8576467 , ..., -6.66271745,\n",
       "         6.5780077 , -7.47941791],\n",
       "       [-3.54926083, -7.88487144,  2.73735531, ...,  8.26154458,\n",
       "        -0.66991817,  3.25733349],\n",
       "       [ 2.97263992, -2.53970396, -4.60755638, ..., -1.98670804,\n",
       "         3.91671644, -8.18901886],\n",
       "       ...,\n",
       "       [-6.16982387, -8.01760997,  5.23659023, ...,  8.46631634,\n",
       "         0.73795921,  4.46837715],\n",
       "       [-0.69953588,  7.48304614, -1.16254811, ..., -5.43660496,\n",
       "         5.07595123, -6.5452727 ],\n",
       "       [ 5.01499004,  4.20095036,  9.0846684 , ..., -9.38555639,\n",
       "        -0.04440143, 11.94502112]])"
      ]
     },
     "execution_count": 55,
     "metadata": {},
     "output_type": "execute_result"
    }
   ],
   "source": [
    "# Next, we will perform a 70/30 train/test split on the data to ensure that we are avoiding overfitting. Here,\n",
    "# 70% of the data will be used as a training set for the classifiers and 30% of the data will be used as a test\n",
    "# set\n",
    "# predictors = ['Sample']\n",
    "# target = ['Cluster ID']\n",
    "X_train, X_test, y_train, y_test = train_test_split(data, labels, train_size=0.7)\n",
    "X_train"
   ]
  },
  {
   "cell_type": "code",
   "execution_count": 56,
   "id": "9379baa9",
   "metadata": {},
   "outputs": [],
   "source": [
    "# Fit Multinomial regression model using data and class labels from the training set\n",
    "mlr = LogisticRegression(multi_class='multinomial', solver='lbfgs', penalty=None).fit(X_train, y_train)"
   ]
  },
  {
   "cell_type": "code",
   "execution_count": 57,
   "id": "37112888",
   "metadata": {},
   "outputs": [
    {
     "name": "stdout",
     "output_type": "stream",
     "text": [
      "Classes: [0 1 2 3]\n",
      "----------------------------------------\n",
      "Coefficients: [[ 1.31228326 -0.72194801 -1.09000438 -1.18481455  0.56074067 -0.06010473\n",
      "  -0.60684003 -1.37001928]\n",
      " [ 0.26246985  0.1848982   0.59540705  0.38780547  0.58573775 -0.64254889\n",
      "  -0.02529023  0.73817897]\n",
      " [-0.152735   -0.86035482  0.22974636 -0.43791927  1.51423884  0.597645\n",
      "   0.1932035   0.49351157]\n",
      " [-1.42201811  1.39740463  0.26485097  1.23492835 -2.66071726  0.10500862\n",
      "   0.43892675  0.13832874]]\n",
      "----------------------------------------\n",
      "Intercepts: [-0.24727705  0.16899298  0.34338477 -0.2651007 ]\n",
      "----------------------------------------\n",
      "Number of features seen: 8\n"
     ]
    }
   ],
   "source": [
    "# Print information about the regression, including coefficients, class info, intercepts, and number of features seen\n",
    "print(\"Classes:\", mlr.classes_)\n",
    "print(\"-\"*40)\n",
    "print(\"Coefficients:\", mlr.coef_)\n",
    "print(\"-\"*40)\n",
    "print(\"Intercepts:\", mlr.intercept_)\n",
    "print(\"-\"*40)\n",
    "print(\"Number of features seen:\", mlr.n_features_in_)"
   ]
  },
  {
   "cell_type": "code",
   "execution_count": 59,
   "id": "5ab44841",
   "metadata": {},
   "outputs": [
    {
     "name": "stdout",
     "output_type": "stream",
     "text": [
      "Confusion Matrix for Multinomial:\n",
      " [[178   0   0   0]\n",
      " [  0 187   0   0]\n",
      " [  0   0 184   0]\n",
      " [  0   0   0 201]]\n",
      "----------------------------------------\n",
      "Report for Multinomial:\n",
      "               precision    recall  f1-score   support\n",
      "\n",
      "           0       1.00      1.00      1.00       178\n",
      "           1       1.00      1.00      1.00       187\n",
      "           2       1.00      1.00      1.00       184\n",
      "           3       1.00      1.00      1.00       201\n",
      "\n",
      "    accuracy                           1.00       750\n",
      "   macro avg       1.00      1.00      1.00       750\n",
      "weighted avg       1.00      1.00      1.00       750\n",
      "\n"
     ]
    }
   ],
   "source": [
    "# Predict and compute classification scores and confusion matrix for the Multinomial regression\n",
    "y_pred = mlr.predict(X_test)\n",
    "confusion = confusion_matrix(y_test, y_pred)\n",
    "report = classification_report(y_test, y_pred)\n",
    "print(\"Confusion Matrix for Multinomial:\\n\", confusion)\n",
    "print(\"-\"*40)\n",
    "print(\"Report for Multinomial:\\n\", report)"
   ]
  },
  {
   "cell_type": "code",
   "execution_count": 60,
   "id": "4dc0608e",
   "metadata": {},
   "outputs": [
    {
     "name": "stdout",
     "output_type": "stream",
     "text": [
      "Confusion Matrix for Tree:\n",
      " [[178   0   0   0]\n",
      " [  4 183   0   0]\n",
      " [  0   0 184   0]\n",
      " [  1   0   0 200]]\n",
      "----------------------------------------\n",
      "Report for Tree:\n",
      "               precision    recall  f1-score   support\n",
      "\n",
      "           0       0.97      1.00      0.99       178\n",
      "           1       1.00      0.98      0.99       187\n",
      "           2       1.00      1.00      1.00       184\n",
      "           3       1.00      1.00      1.00       201\n",
      "\n",
      "    accuracy                           0.99       750\n",
      "   macro avg       0.99      0.99      0.99       750\n",
      "weighted avg       0.99      0.99      0.99       750\n",
      "\n"
     ]
    }
   ],
   "source": [
    "# Build Decision Tree classifier for comparison\n",
    "from sklearn.tree import DecisionTreeClassifier\n",
    "t = DecisionTreeClassifier().fit(X_train, y_train)\n",
    "y_pred_tree = t.predict(X_test)\n",
    "confusion_tree = confusion_matrix(y_test, y_pred_tree)\n",
    "report_tree = classification_report(y_test, y_pred_tree)\n",
    "print(\"Confusion Matrix for Tree:\\n\", confusion_tree)\n",
    "print(\"-\"*40)\n",
    "print(\"Report for Tree:\\n\", report_tree)"
   ]
  },
  {
   "cell_type": "code",
   "execution_count": null,
   "id": "2ea5795f",
   "metadata": {},
   "outputs": [],
   "source": []
  }
 ],
 "metadata": {
  "kernelspec": {
   "display_name": "Python 3 (ipykernel)",
   "language": "python",
   "name": "python3"
  },
  "language_info": {
   "codemirror_mode": {
    "name": "ipython",
    "version": 3
   },
   "file_extension": ".py",
   "mimetype": "text/x-python",
   "name": "python",
   "nbconvert_exporter": "python",
   "pygments_lexer": "ipython3",
   "version": "3.10.12"
  }
 },
 "nbformat": 4,
 "nbformat_minor": 5
}
